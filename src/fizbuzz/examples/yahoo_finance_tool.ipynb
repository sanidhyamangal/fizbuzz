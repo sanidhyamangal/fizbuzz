{
 "cells": [
  {
   "cell_type": "code",
   "execution_count": 1,
   "metadata": {},
   "outputs": [],
   "source": [
    "from fizbuzz.tools.yahoo_finance import YahooFinanceToolSpec"
   ]
  },
  {
   "cell_type": "code",
   "execution_count": 2,
   "metadata": {},
   "outputs": [],
   "source": [
    "yft = YahooFinanceToolSpec()"
   ]
  },
  {
   "cell_type": "code",
   "execution_count": 3,
   "metadata": {},
   "outputs": [
    {
     "name": "stdout",
     "output_type": "stream",
     "text": [
      "News:\n",
      "Big Tech leaning further into humanoid robots: What to know\n",
      "Alibaba is 'big beneficiary' of AI with partnerships like Apple\n",
      "Is the stock rally showing signs of stalling? Citi thinks so.\n",
      "Apple Inc. (AAPL) Gets $294 Target from Goldman Sachs Amid iPhone 16e Launch and Pricing Insights\n",
      "Is Apple Stock A Buy After iPhone 16e Debut?\n",
      "Ryan Cohen Boosts Alibaba Stake to $1 Billion\n",
      "Trump’s FBI Pick Stands to Make Millions From Fashion Brand Shein\n",
      "Apple’s iPhone 16e Is a Big Moment for the Company’s Own Chip. What It Means for Qualcomm Stock.\n",
      "What Is Quantum Computing, and Why Does It Matter?\n",
      "Magnificent Seven Stocks: Nvidia Rises, But Tesla Sells Off; Amazon Below Key Level\n"
     ]
    }
   ],
   "source": [
    "print(yft.stock_news(\"AAPL\"))"
   ]
  },
  {
   "cell_type": "code",
   "execution_count": 4,
   "metadata": {},
   "outputs": [
    {
     "name": "stdout",
     "output_type": "stream",
     "text": [
      "Basic Stock information:\n",
      "{'address1': 'One Apple Park Way', 'city': 'Cupertino', 'state': 'CA', 'zip': '95014', 'country': 'United States', 'phone': '(408) 996-1010', 'website': 'https://www.apple.com', 'industry': 'Consumer Electronics', 'industryKey': 'consumer-electronics', 'industryDisp': 'Consumer Electronics', 'sector': 'Technology', 'sectorKey': 'technology', 'sectorDisp': 'Technology', 'longBusinessSummary': 'Apple Inc. designs, manufactures, and markets smartphones, personal computers, tablets, wearables, and accessories worldwide. The company offers iPhone, a line of smartphones; Mac, a line of personal computers; iPad, a line of multi-purpose tablets; and wearables, home, and accessories comprising AirPods, Apple TV, Apple Watch, Beats products, and HomePod. It also provides AppleCare support and cloud services; and operates various platforms, including the App Store that allow customers to discover and download applications and digital content, such as books, music, video, games, and podcasts, as well as advertising services include third-party licensing arrangements and its own advertising platforms. In addition, the company offers various subscription-based services, such as Apple Arcade, a game subscription service; Apple Fitness+, a personalized fitness service; Apple Music, which offers users a curated listening experience with on-demand radio stations; Apple News+, a subscription news and magazine service; Apple TV+, which offers exclusive original content; Apple Card, a co-branded credit card; and Apple Pay, a cashless payment service, as well as licenses its intellectual property. The company serves consumers, and small and mid-sized businesses; and the education, enterprise, and government markets. It distributes third-party applications for its products through the App Store. The company also sells its products through its retail and online stores, and direct sales force; and third-party cellular network carriers, wholesalers, retailers, and resellers. Apple Inc. was founded in 1976 and is headquartered in Cupertino, California.', 'fullTimeEmployees': 150000, 'companyOfficers': [{'maxAge': 1, 'name': 'Mr. Timothy D. Cook', 'age': 63, 'title': 'CEO & Director', 'yearBorn': 1961, 'fiscalYear': 2023, 'totalPay': 16239562, 'exercisedValue': 0, 'unexercisedValue': 0}, {'maxAge': 1, 'name': 'Mr. Jeffrey E. Williams', 'age': 60, 'title': 'Chief Operating Officer', 'yearBorn': 1964, 'fiscalYear': 2023, 'totalPay': 4637585, 'exercisedValue': 0, 'unexercisedValue': 0}, {'maxAge': 1, 'name': 'Ms. Katherine L. Adams', 'age': 60, 'title': 'Senior VP, General Counsel & Secretary', 'yearBorn': 1964, 'fiscalYear': 2023, 'totalPay': 4618064, 'exercisedValue': 0, 'unexercisedValue': 0}, {'maxAge': 1, 'name': \"Ms. Deirdre  O'Brien\", 'age': 57, 'title': 'Chief People Officer & Senior VP of Retail', 'yearBorn': 1967, 'fiscalYear': 2023, 'totalPay': 4613369, 'exercisedValue': 0, 'unexercisedValue': 0}, {'maxAge': 1, 'name': 'Mr. Kevan  Parekh', 'age': 52, 'title': 'Senior VP & CFO', 'yearBorn': 1972, 'fiscalYear': 2023, 'exercisedValue': 0, 'unexercisedValue': 0}, {'maxAge': 1, 'name': 'Mr. Chris  Kondo', 'title': 'Senior Director of Corporate Accounting', 'fiscalYear': 2023, 'exercisedValue': 0, 'unexercisedValue': 0}, {'maxAge': 1, 'name': 'Suhasini  Chandramouli', 'title': 'Director of Investor Relations', 'fiscalYear': 2023, 'exercisedValue': 0, 'unexercisedValue': 0}, {'maxAge': 1, 'name': 'Ms. Kristin Huguet Quayle', 'title': 'Vice President of Worldwide Communications', 'fiscalYear': 2023, 'exercisedValue': 0, 'unexercisedValue': 0}, {'maxAge': 1, 'name': 'Mr. Greg  Joswiak', 'title': 'Senior Vice President of Worldwide Marketing', 'fiscalYear': 2023, 'exercisedValue': 0, 'unexercisedValue': 0}, {'maxAge': 1, 'name': 'Mr. Adrian  Perica', 'age': 50, 'title': 'Vice President of Corporate Development', 'yearBorn': 1974, 'fiscalYear': 2023, 'exercisedValue': 0, 'unexercisedValue': 0}], 'auditRisk': 3, 'boardRisk': 1, 'compensationRisk': 3, 'shareHolderRightsRisk': 1, 'overallRisk': 1, 'governanceEpochDate': 1738368000, 'compensationAsOfEpochDate': 1703980800, 'irWebsite': 'http://investor.apple.com/', 'executiveTeam': [], 'maxAge': 86400, 'priceHint': 2, 'previousClose': 244.87, 'open': 244.97, 'dayLow': 244.29, 'dayHigh': 246.78, 'regularMarketPreviousClose': 244.87, 'regularMarketOpen': 244.97, 'regularMarketDayLow': 244.29, 'regularMarketDayHigh': 246.78, 'dividendRate': 1.0, 'dividendYield': 0.41, 'exDividendDate': 1739145600, 'payoutRatio': 0.1571, 'fiveYearAvgDividendYield': 0.6, 'beta': 1.2, 'trailingPE': 39.082672, 'forwardPE': 29.58243, 'volume': 31125149, 'regularMarketVolume': 31125149, 'averageVolume': 50704761, 'averageVolume10days': 41684710, 'averageDailyVolume10Day': 41684710, 'bid': 232.67, 'ask': 245.96, 'bidSize': 1, 'askSize': 2, 'marketCap': 3692883083264, 'fiftyTwoWeekLow': 164.08, 'fiftyTwoWeekHigh': 260.1, 'priceToSalesTrailing12Months': 9.331118, 'fiftyDayAverage': 240.5802, 'twoHundredDayAverage': 223.7106, 'trailingAnnualDividendRate': 0.99, 'trailingAnnualDividendYield': 0.0040429616, 'currency': 'USD', 'tradeable': False, 'enterpriseValue': 3721479061504, 'profitMargins': 0.24295, 'floatShares': 14997737242, 'sharesOutstanding': 15022100480, 'sharesShort': 124917523, 'sharesShortPriorMonth': 157008120, 'sharesShortPreviousMonthDate': 1735603200, 'dateShortInterest': 1738281600, 'sharesPercentSharesOut': 0.0083, 'heldPercentInsiders': 0.02286, 'heldPercentInstitutions': 0.62761, 'shortRatio': 2.12, 'shortPercentOfFloat': 0.0083, 'impliedSharesOutstanding': 15390999552, 'bookValue': 4.438, 'priceToBook': 55.392067, 'lastFiscalYearEnd': 1727481600, 'nextFiscalYearEnd': 1759017600, 'mostRecentQuarter': 1735344000, 'earningsQuarterlyGrowth': 0.071, 'netIncomeToCommon': 96150003712, 'trailingEps': 6.29, 'forwardEps': 8.31, 'lastSplitFactor': '4:1', 'lastSplitDate': 1598832000, 'enterpriseToRevenue': 9.403, 'enterpriseToEbitda': 27.094, '52WeekChange': 0.32814455, 'SandP52WeekChange': 0.20780694, 'lastDividendValue': 0.25, 'lastDividendDate': 1739145600, 'quoteType': 'EQUITY', 'currentPrice': 245.83, 'targetHighPrice': 325.0, 'targetLowPrice': 197.0, 'targetMeanPrice': 252.22575, 'targetMedianPrice': 257.5, 'recommendationMean': 2.06522, 'recommendationKey': 'buy', 'numberOfAnalystOpinions': 40, 'totalCash': 53774999552, 'totalCashPerShare': 3.58, 'ebitda': 137352003584, 'totalDebt': 96798998528, 'quickRatio': 0.783, 'currentRatio': 0.923, 'totalRevenue': 395760009216, 'debtToEquity': 145.0, 'revenuePerShare': 25.974, 'returnOnAssets': 0.22518998, 'returnOnEquity': 1.3652, 'grossProfits': 184102993920, 'freeCashflow': 93833871360, 'operatingCashflow': 108293996544, 'earningsGrowth': 0.101, 'revenueGrowth': 0.04, 'grossMargins': 0.46519002, 'ebitdaMargins': 0.34706002, 'operatingMargins': 0.34459, 'financialCurrency': 'USD', 'symbol': 'AAPL', 'language': 'en-US', 'region': 'US', 'typeDisp': 'Equity', 'quoteSourceName': 'Nasdaq Real Time Price', 'triggerable': True, 'customPriceAlertConfidence': 'HIGH', 'hasPrePostMarketData': True, 'firstTradeDateMilliseconds': 345479400000, 'postMarketChangePercent': -0.093558855, 'postMarketPrice': 245.6, 'postMarketChange': -0.22999573, 'regularMarketChange': 0.9600067, 'regularMarketDayRange': '244.29 - 246.78', 'fullExchangeName': 'NasdaqGS', 'averageDailyVolume3Month': 50704761, 'fiftyTwoWeekLowChange': 81.75, 'fiftyTwoWeekLowChangePercent': 0.49823257, 'fiftyTwoWeekRange': '164.08 - 260.1', 'fiftyTwoWeekHighChange': -14.270004, 'fiftyTwoWeekHighChangePercent': -0.054863527, 'fiftyTwoWeekChangePercent': 32.814453, 'dividendDate': 1739404800, 'earningsTimestamp': 1738272600, 'earningsTimestampStart': 1746010740, 'earningsTimestampEnd': 1746446400, 'earningsCallTimestampStart': 1738274400, 'earningsCallTimestampEnd': 1738274400, 'isEarningsDateEstimate': True, 'epsTrailingTwelveMonths': 6.29, 'epsForward': 8.31, 'epsCurrentYear': 7.33658, 'priceEpsCurrentYear': 33.50744, 'regularMarketChangePercent': 0.3920475, 'regularMarketPrice': 245.83, 'shortName': 'Apple Inc.', 'longName': 'Apple Inc.', 'corporateActions': [], 'postMarketTime': 1740099595, 'regularMarketTime': 1740085200, 'exchange': 'NMS', 'messageBoardId': 'finmb_24937', 'exchangeTimezoneName': 'America/New_York', 'exchangeTimezoneShortName': 'EST', 'gmtOffSetMilliseconds': -18000000, 'market': 'us_market', 'esgPopulated': False, 'fiftyDayAverageChange': 5.2498016, 'fiftyDayAverageChangePercent': 0.02182142, 'twoHundredDayAverageChange': 22.1194, 'twoHundredDayAverageChangePercent': 0.09887506, 'sourceInterval': 15, 'exchangeDataDelayedBy': 0, 'averageAnalystRating': '2.1 - Buy', 'cryptoTradeable': False, 'marketState': 'POSTPOST', 'displayName': 'Apple', 'trailingPegRatio': 2.2679}\n"
     ]
    }
   ],
   "source": [
    "print(yft.basic_stock_information(\"AAPL\"))"
   ]
  },
  {
   "cell_type": "code",
   "execution_count": 5,
   "metadata": {},
   "outputs": [
    {
     "name": "stdout",
     "output_type": "stream",
     "text": [
      "Balance Sheet:\n",
      "                                                         2024-09-30      2023-09-30      2022-09-30      2021-09-30      2020-09-30\n",
      "Treasury Shares Number                                          NaN             0.0             NaN             NaN             NaN\n",
      "Ordinary Shares Number                                15116786000.0   15550061000.0   15943425000.0   16426786000.0             NaN\n",
      "Share Issued                                          15116786000.0   15550061000.0   15943425000.0   16426786000.0             NaN\n",
      "Net Debt                                              76686000000.0   81123000000.0   96423000000.0   89779000000.0             NaN\n",
      "Total Debt                                           106629000000.0  111088000000.0  132480000000.0  136522000000.0             NaN\n",
      "Tangible Book Value                                   56950000000.0   62146000000.0   50672000000.0   63090000000.0             NaN\n",
      "Invested Capital                                     163579000000.0  173234000000.0  170741000000.0  187809000000.0             NaN\n",
      "Working Capital                                      -23405000000.0   -1742000000.0  -18577000000.0    9355000000.0             NaN\n",
      "Net Tangible Assets                                   56950000000.0   62146000000.0   50672000000.0   63090000000.0             NaN\n",
      "Capital Lease Obligations                                       NaN   12842000000.0   12411000000.0   11803000000.0    9842000000.0\n",
      "Common Stock Equity                                   56950000000.0   62146000000.0   50672000000.0   63090000000.0             NaN\n",
      "Total Capitalization                                 142700000000.0  157427000000.0  149631000000.0  172196000000.0             NaN\n",
      "Total Equity Gross Minority Interest                  56950000000.0   62146000000.0   50672000000.0   63090000000.0             NaN\n",
      "Stockholders Equity                                   56950000000.0   62146000000.0   50672000000.0   63090000000.0             NaN\n",
      "Gains Losses Not Affecting Retained Earnings          -7172000000.0  -11452000000.0  -11109000000.0     163000000.0             NaN\n",
      "Other Equity Adjustments                              -7172000000.0  -11452000000.0  -11109000000.0     163000000.0             NaN\n",
      "Retained Earnings                                    -19154000000.0    -214000000.0   -3068000000.0    5562000000.0             NaN\n",
      "Capital Stock                                         83276000000.0   73812000000.0   64849000000.0   57365000000.0             NaN\n",
      "Common Stock                                          83276000000.0   73812000000.0   64849000000.0   57365000000.0             NaN\n",
      "Total Liabilities Net Minority Interest              308030000000.0  290437000000.0  302083000000.0  287912000000.0             NaN\n",
      "Total Non Current Liabilities Net Minority Interest  131638000000.0  145129000000.0  148101000000.0  162431000000.0             NaN\n",
      "Other Non Current Liabilities                         36634000000.0   34391000000.0   21737000000.0   18361000000.0             NaN\n",
      "Tradeand Other Payables Non Current                    9254000000.0   15457000000.0   16657000000.0   24689000000.0             NaN\n",
      "Long Term Debt And Capital Lease Obligation           85750000000.0   95281000000.0  109707000000.0  119381000000.0             NaN\n",
      "Long Term Capital Lease Obligation                              NaN   11267000000.0   10748000000.0   10275000000.0    8382000000.0\n",
      "Long Term Debt                                        85750000000.0   95281000000.0   98959000000.0  109106000000.0             NaN\n",
      "Current Liabilities                                  176392000000.0  145308000000.0  153982000000.0  125481000000.0             NaN\n",
      "Other Current Liabilities                             51703000000.0   50010000000.0   52630000000.0   45965000000.0             NaN\n",
      "Current Deferred Liabilities                           8249000000.0    8061000000.0    7912000000.0    7612000000.0             NaN\n",
      "Current Deferred Revenue                               8249000000.0    8061000000.0    7912000000.0    7612000000.0             NaN\n",
      "Current Debt And Capital Lease Obligation             20879000000.0   15807000000.0   22773000000.0   17141000000.0             NaN\n",
      "Current Capital Lease Obligation                                NaN    1575000000.0    1663000000.0    1528000000.0    1460000000.0\n",
      "Current Debt                                          20879000000.0   15807000000.0   21110000000.0   15613000000.0             NaN\n",
      "Other Current Borrowings                              10912000000.0    9822000000.0   11128000000.0    9613000000.0             NaN\n",
      "Commercial Paper                                       9967000000.0    5985000000.0    9982000000.0    6000000000.0             NaN\n",
      "Payables And Accrued Expenses                         95561000000.0   71430000000.0   70667000000.0   54763000000.0             NaN\n",
      "Payables                                              95561000000.0   71430000000.0   70667000000.0   54763000000.0             NaN\n",
      "Total Tax Payable                                     26601000000.0    8819000000.0    6552000000.0             NaN             NaN\n",
      "Income Tax Payable                                    26601000000.0    8819000000.0    6552000000.0             NaN             NaN\n",
      "Accounts Payable                                      68960000000.0   62611000000.0   64115000000.0   54763000000.0             NaN\n",
      "Total Assets                                         364980000000.0  352583000000.0  352755000000.0  351002000000.0             NaN\n",
      "Total Non Current Assets                             211993000000.0  209017000000.0  217350000000.0  216166000000.0             NaN\n",
      "Other Non Current Assets                              55335000000.0   46906000000.0   39053000000.0   38762000000.0             NaN\n",
      "Non Current Deferred Assets                           19499000000.0   17852000000.0   15375000000.0             NaN             NaN\n",
      "Non Current Deferred Taxes Assets                     19499000000.0   17852000000.0   15375000000.0             NaN             NaN\n",
      "Investments And Advances                              91479000000.0  100544000000.0  120805000000.0  127877000000.0             NaN\n",
      "Other Investments                                               NaN             NaN  120805000000.0  127877000000.0  100887000000.0\n",
      "Investmentin Financial Assets                         91479000000.0  100544000000.0  120805000000.0  127877000000.0             NaN\n",
      "Available For Sale Securities                         91479000000.0  100544000000.0  120805000000.0  127877000000.0             NaN\n",
      "Net PPE                                               45680000000.0   43715000000.0   42117000000.0   49527000000.0             NaN\n",
      "Accumulated Depreciation                             -73448000000.0  -70884000000.0  -72340000000.0  -70283000000.0             NaN\n",
      "Gross PPE                                            119128000000.0  114599000000.0  114457000000.0  119810000000.0             NaN\n",
      "Leases                                                14233000000.0   12839000000.0   11271000000.0   11023000000.0             NaN\n",
      "Other Properties                                                NaN   10661000000.0   10417000000.0   10087000000.0    8570000000.0\n",
      "Machinery Furniture Equipment                         80205000000.0   78314000000.0   81060000000.0   78659000000.0             NaN\n",
      "Land And Improvements                                 24690000000.0   23446000000.0   22126000000.0   20041000000.0             NaN\n",
      "Properties                                                      0.0             0.0             0.0             0.0             NaN\n",
      "Current Assets                                       152987000000.0  143566000000.0  135405000000.0  134836000000.0             NaN\n",
      "Other Current Assets                                  14287000000.0   14695000000.0   21223000000.0   14111000000.0             NaN\n",
      "Inventory                                              7286000000.0    6331000000.0    4946000000.0    6580000000.0             NaN\n",
      "Receivables                                           66243000000.0   60985000000.0   60932000000.0   51506000000.0             NaN\n",
      "Other Receivables                                     32833000000.0   31477000000.0   32748000000.0   25228000000.0             NaN\n",
      "Accounts Receivable                                   33410000000.0   29508000000.0   28184000000.0   26278000000.0             NaN\n",
      "Cash Cash Equivalents And Short Term Investments      65171000000.0   61555000000.0   48304000000.0   62639000000.0             NaN\n",
      "Other Short Term Investments                          35228000000.0   31590000000.0   24658000000.0   27699000000.0             NaN\n",
      "Cash And Cash Equivalents                             29943000000.0   29965000000.0   23646000000.0   34940000000.0             NaN\n",
      "Cash Equivalents                                       2744000000.0    1606000000.0    5100000000.0   17635000000.0             NaN\n",
      "Cash Financial                                        27199000000.0   28359000000.0   18546000000.0   17305000000.0             NaN\n"
     ]
    }
   ],
   "source": [
    "print(yft.balance_sheet(\"AAPL\"))"
   ]
  },
  {
   "cell_type": "code",
   "execution_count": 6,
   "metadata": {},
   "outputs": [
    {
     "name": "stdout",
     "output_type": "stream",
     "text": [
      "Cash Flow:\n",
      "                                                    2024-09-30      2023-09-30      2022-09-30      2021-09-30    2020-09-30\n",
      "Free Cash Flow                                  108807000000.0   99584000000.0  111443000000.0   92953000000.0           NaN\n",
      "Repurchase Of Capital Stock                     -94949000000.0  -77550000000.0  -89402000000.0  -85971000000.0           NaN\n",
      "Repayment Of Debt                                -9958000000.0  -11151000000.0   -9543000000.0   -8750000000.0           NaN\n",
      "Issuance Of Debt                                           0.0    5228000000.0    5465000000.0   20393000000.0           NaN\n",
      "Issuance Of Capital Stock                                  NaN             NaN             NaN    1105000000.0   880000000.0\n",
      "Capital Expenditure                              -9447000000.0  -10959000000.0  -10708000000.0  -11085000000.0           NaN\n",
      "Interest Paid Supplemental Data                            NaN    3803000000.0    2865000000.0    2687000000.0  3002000000.0\n",
      "Income Tax Paid Supplemental Data                26102000000.0   18679000000.0   19573000000.0   25385000000.0           NaN\n",
      "End Cash Position                                29943000000.0   30737000000.0   24977000000.0   35929000000.0           NaN\n",
      "Beginning Cash Position                          30737000000.0   24977000000.0   35929000000.0   39789000000.0           NaN\n",
      "Changes In Cash                                   -794000000.0    5760000000.0  -10952000000.0   -3860000000.0           NaN\n",
      "Financing Cash Flow                            -121983000000.0 -108488000000.0 -110749000000.0  -93353000000.0           NaN\n",
      "Cash Flow From Continuing Financing Activities -121983000000.0 -108488000000.0 -110749000000.0  -93353000000.0           NaN\n",
      "Net Other Financing Charges                      -5802000000.0   -6012000000.0   -6383000000.0   -5580000000.0           NaN\n",
      "Cash Dividends Paid                             -15234000000.0  -15025000000.0  -14841000000.0  -14467000000.0           NaN\n",
      "Common Stock Dividend Paid                      -15234000000.0  -15025000000.0  -14841000000.0  -14467000000.0           NaN\n",
      "Net Common Stock Issuance                       -94949000000.0  -77550000000.0  -89402000000.0  -85971000000.0           NaN\n",
      "Common Stock Payments                           -94949000000.0  -77550000000.0  -89402000000.0  -85971000000.0           NaN\n",
      "Common Stock Issuance                                      NaN             NaN             NaN    1105000000.0   880000000.0\n",
      "Net Issuance Payments Of Debt                    -5998000000.0   -9901000000.0    -123000000.0   12665000000.0           NaN\n",
      "Net Short Term Debt Issuance                      3960000000.0   -3978000000.0    3955000000.0    1022000000.0           NaN\n",
      "Net Long Term Debt Issuance                      -9958000000.0   -5923000000.0   -4078000000.0   11643000000.0           NaN\n",
      "Long Term Debt Payments                          -9958000000.0  -11151000000.0   -9543000000.0   -8750000000.0           NaN\n",
      "Long Term Debt Issuance                                    0.0    5228000000.0    5465000000.0   20393000000.0           NaN\n",
      "Investing Cash Flow                               2935000000.0    3705000000.0  -22354000000.0  -14545000000.0           NaN\n",
      "Cash Flow From Continuing Investing Activities    2935000000.0    3705000000.0  -22354000000.0  -14545000000.0           NaN\n",
      "Net Other Investing Changes                      -1308000000.0   -1337000000.0   -2086000000.0    -385000000.0           NaN\n",
      "Net Investment Purchase And Sale                 13690000000.0   16001000000.0   -9560000000.0   -3075000000.0           NaN\n",
      "Sale Of Investment                               62346000000.0   45514000000.0   67363000000.0  106483000000.0           NaN\n",
      "Purchase Of Investment                          -48656000000.0  -29513000000.0  -76923000000.0 -109558000000.0           NaN\n",
      "Net Business Purchase And Sale                             NaN             NaN    -306000000.0     -33000000.0 -1524000000.0\n",
      "Purchase Of Business                                       NaN             NaN    -306000000.0     -33000000.0 -1524000000.0\n",
      "Net PPE Purchase And Sale                        -9447000000.0  -10959000000.0  -10708000000.0  -11085000000.0           NaN\n",
      "Purchase Of PPE                                  -9447000000.0  -10959000000.0  -10708000000.0  -11085000000.0           NaN\n",
      "Operating Cash Flow                             118254000000.0  110543000000.0  122151000000.0  104038000000.0           NaN\n",
      "Cash Flow From Continuing Operating Activities  118254000000.0  110543000000.0  122151000000.0  104038000000.0           NaN\n",
      "Change In Working Capital                         3651000000.0   -6577000000.0    1200000000.0   -4911000000.0           NaN\n",
      "Change In Other Working Capital                            NaN             NaN     478000000.0    1676000000.0  2081000000.0\n",
      "Change In Other Current Liabilities              15552000000.0    3031000000.0    6110000000.0    7475000000.0           NaN\n",
      "Change In Other Current Assets                  -11731000000.0   -5684000000.0   -6499000000.0   -8042000000.0           NaN\n",
      "Change In Payables And Accrued Expense            6020000000.0   -1889000000.0    9448000000.0   12326000000.0           NaN\n",
      "Change In Payable                                 6020000000.0   -1889000000.0    9448000000.0   12326000000.0           NaN\n",
      "Change In Account Payable                         6020000000.0   -1889000000.0    9448000000.0   12326000000.0           NaN\n",
      "Change In Inventory                              -1046000000.0   -1618000000.0    1484000000.0   -2642000000.0           NaN\n",
      "Change In Receivables                            -5144000000.0    -417000000.0   -9343000000.0  -14028000000.0           NaN\n",
      "Changes In Account Receivables                   -3788000000.0   -1688000000.0   -1823000000.0  -10125000000.0           NaN\n",
      "Other Non Cash Items                             -2266000000.0   -2227000000.0    1006000000.0   -4921000000.0           NaN\n",
      "Stock Based Compensation                         11688000000.0   10833000000.0    9038000000.0    7906000000.0           NaN\n",
      "Deferred Tax                                               NaN             NaN     895000000.0   -4774000000.0  -215000000.0\n",
      "Deferred Income Tax                                        NaN             NaN     895000000.0   -4774000000.0  -215000000.0\n",
      "Depreciation Amortization Depletion              11445000000.0   11519000000.0   11104000000.0   11284000000.0           NaN\n",
      "Depreciation And Amortization                    11445000000.0   11519000000.0   11104000000.0   11284000000.0           NaN\n",
      "Net Income From Continuing Operations            93736000000.0   96995000000.0   99803000000.0   94680000000.0           NaN\n"
     ]
    }
   ],
   "source": [
    "print(yft.cash_flow(\"AAPL\"))"
   ]
  },
  {
   "cell_type": "code",
   "execution_count": 7,
   "metadata": {},
   "outputs": [
    {
     "name": "stdout",
     "output_type": "stream",
     "text": [
      "Income Statement:\n",
      "                                                                2024-09-30      2023-09-30      2022-09-30      2021-09-30    2020-09-30\n",
      "Tax Effect Of Unusual Items                                            0.0             0.0             0.0             0.0           NaN\n",
      "Tax Rate For Calcs                                                   0.241           0.147           0.162           0.133           NaN\n",
      "Normalized EBITDA                                           134661000000.0  125820000000.0  130541000000.0  123136000000.0           NaN\n",
      "Net Income From Continuing Operation Net Minority Interest   93736000000.0   96995000000.0   99803000000.0   94680000000.0           NaN\n",
      "Reconciled Depreciation                                      11445000000.0   11519000000.0   11104000000.0   11284000000.0           NaN\n",
      "Reconciled Cost Of Revenue                                  210352000000.0  214137000000.0  223546000000.0  212981000000.0           NaN\n",
      "EBITDA                                                      134661000000.0  125820000000.0  130541000000.0  123136000000.0           NaN\n",
      "EBIT                                                        123216000000.0  114301000000.0  119437000000.0  111852000000.0           NaN\n",
      "Net Interest Income                                                    NaN    -183000000.0    -106000000.0     198000000.0   890000000.0\n",
      "Interest Expense                                                       NaN    3933000000.0    2931000000.0    2645000000.0  2873000000.0\n",
      "Interest Income                                                        NaN    3750000000.0    2825000000.0    2843000000.0  3763000000.0\n",
      "Normalized Income                                            93736000000.0   96995000000.0   99803000000.0   94680000000.0           NaN\n",
      "Net Income From Continuing And Discontinued Operation        93736000000.0   96995000000.0   99803000000.0   94680000000.0           NaN\n",
      "Total Expenses                                              267819000000.0  268984000000.0  274891000000.0  256868000000.0           NaN\n",
      "Total Operating Income As Reported                          123216000000.0  114301000000.0  119437000000.0  108949000000.0           NaN\n",
      "Diluted Average Shares                                       15408095000.0   15812547000.0   16325819000.0   16864919000.0           NaN\n",
      "Basic Average Shares                                         15343783000.0   15744231000.0   16215963000.0   16701272000.0           NaN\n",
      "Diluted EPS                                                           6.08            6.13            6.11            5.61           NaN\n",
      "Basic EPS                                                             6.11            6.16            6.15            5.67           NaN\n",
      "Diluted NI Availto Com Stockholders                          93736000000.0   96995000000.0   99803000000.0   94680000000.0           NaN\n",
      "Net Income Common Stockholders                               93736000000.0   96995000000.0   99803000000.0   94680000000.0           NaN\n",
      "Net Income                                                   93736000000.0   96995000000.0   99803000000.0   94680000000.0           NaN\n",
      "Net Income Including Noncontrolling Interests                93736000000.0   96995000000.0   99803000000.0   94680000000.0           NaN\n",
      "Net Income Continuous Operations                             93736000000.0   96995000000.0   99803000000.0   94680000000.0           NaN\n",
      "Tax Provision                                                29749000000.0   16741000000.0   19300000000.0   14527000000.0           NaN\n",
      "Pretax Income                                               123485000000.0  113736000000.0  119103000000.0  109207000000.0           NaN\n",
      "Other Income Expense                                           269000000.0    -565000000.0    -334000000.0      60000000.0           NaN\n",
      "Other Non Operating Income Expenses                            269000000.0    -565000000.0    -334000000.0      60000000.0           NaN\n",
      "Net Non Operating Interest Income Expense                              NaN    -183000000.0    -106000000.0     198000000.0   890000000.0\n",
      "Interest Expense Non Operating                                         NaN    3933000000.0    2931000000.0    2645000000.0  2873000000.0\n",
      "Interest Income Non Operating                                          NaN    3750000000.0    2825000000.0    2843000000.0  3763000000.0\n",
      "Operating Income                                            123216000000.0  114301000000.0  119437000000.0  108949000000.0           NaN\n",
      "Operating Expense                                            57467000000.0   54847000000.0   51345000000.0   43887000000.0           NaN\n",
      "Research And Development                                     31370000000.0   29915000000.0   26251000000.0   21914000000.0           NaN\n",
      "Selling General And Administration                           26097000000.0   24932000000.0   25094000000.0   21973000000.0           NaN\n",
      "Gross Profit                                                180683000000.0  169148000000.0  170782000000.0  152836000000.0           NaN\n",
      "Cost Of Revenue                                             210352000000.0  214137000000.0  223546000000.0  212981000000.0           NaN\n",
      "Total Revenue                                               391035000000.0  383285000000.0  394328000000.0  365817000000.0           NaN\n",
      "Operating Revenue                                           391035000000.0  383285000000.0  394328000000.0  365817000000.0           NaN\n"
     ]
    }
   ],
   "source": [
    "print(yft.income_statement(\"AAPL\"))"
   ]
  },
  {
   "cell_type": "code",
   "execution_count": 8,
   "metadata": {},
   "outputs": [
    {
     "name": "stdout",
     "output_type": "stream",
     "text": [
      "Recommendations:\n",
      "  period  strongBuy  buy  hold  sell  strongSell\n",
      "0     0m          7   21    14     2           2\n",
      "1    -1m          8   21    13     2           2\n",
      "2    -2m          8   24    12     1           2\n",
      "3    -3m          8   24    12     1           2\n"
     ]
    }
   ],
   "source": [
    "print(yft.analyst_recommendations(\"AAPL\"))"
   ]
  },
  {
   "cell_type": "code",
   "execution_count": 9,
   "metadata": {},
   "outputs": [
    {
     "name": "stdout",
     "output_type": "stream",
     "text": [
      "Stock - AAPL:\n",
      "News:\n",
      "Big Tech leaning further into humanoid robots: What to know\n",
      "Alibaba is 'big beneficiary' of AI with partnerships like Apple\n",
      "Is the stock rally showing signs of stalling? Citi thinks so.\n",
      "Apple Inc. (AAPL) Gets $294 Target from Goldman Sachs Amid iPhone 16e Launch and Pricing Insights\n",
      "Is Apple Stock A Buy After iPhone 16e Debut?\n",
      "Ryan Cohen Boosts Alibaba Stake to $1 Billion\n",
      "Trump’s FBI Pick Stands to Make Millions From Fashion Brand Shein\n",
      "Apple’s iPhone 16e Is a Big Moment for the Company’s Own Chip. What It Means for Qualcomm Stock.\n",
      "What Is Quantum Computing, and Why Does It Matter?\n",
      "Magnificent Seven Stocks: Nvidia Rises, But Tesla Sells Off; Amazon Below Key Level\n",
      "Stock - MSFT:\n",
      "News:\n",
      "Is the stock rally showing signs of stalling? Citi thinks so.\n",
      "What Nvidia bulls are whispering about before its big earnings report\n",
      "Microsoft Corporation (MSFT) Unveils AI-Powered ‘Muse’ for Game Development with Ninja Theory\n",
      "Tech leader reveals monumental quantum computing chip breakthrough\n",
      "These Stocks Moved the Most Today: Carvana, Vimeo, Alibaba, Wayfair, Palantir, D-Wave Quantum, and More\n",
      "This Magnificent Seven Tech Rises 3rd Straight Day On New Quantum Chip After Hitting New Low In 2025; Is Microsoft Stock A Buy In February?\n",
      "Microsoft Reports a Win on Quantum Computing. What It Means for the Sector.\n",
      "Why There's No New Steve Jobs Or Zuckerberg — Bill Gates Names The Only 20-Something Founder Who's Still In The Game\n",
      "What Is Quantum Computing, and Why Does It Matter?\n",
      "Magnificent Seven Stocks: Nvidia Rises, But Tesla Sells Off; Amazon Below Key Level\n",
      "Stock - NVDA:\n",
      "News:\n",
      "The 2025 stock market rally isn't just about the 'Magnificent 7'\n",
      "What Nvidia bulls are whispering about before its big earnings report\n",
      "These stocks are now among the S&P 500's top contributors\n",
      "Dow Jones Futures: S&P 500 Dips As Palantir, Axon, Carvana Skid, Nvidia Holds; MercadoLibre Soars Late\n",
      "NVIDIA Corporation (NVDA) Maintains ‘Buy’ Rating from Baird Amid AI Growth and GB200 Acceleration\n",
      "Startup Together AI Valued at $3.3 Billion as AI Demand Grows\n",
      "What Nvidia, Apple And Palantir Reveal About This Stock Market\n",
      "Oppenheimer Reiterates Outperform Rating on NVIDIA, Citing AI Accelerator Demand\n",
      "NVIDIA Corporation (NVDA): The Best Fast Growth Stock to Buy Right Now\n",
      "Nvidia Stock Rises. Why the Chip Maker Got a Price-Target Upgrade.\n"
     ]
    }
   ],
   "source": [
    "stocks = yft.run_spec_function_for_multiple_tickers(\n",
    "    tickers=[\"AAPL\", \"MSFT\", \"NVDA\"], method=\"stock_news\"\n",
    ")\n",
    "\n",
    "for ticker, news in stocks.items():\n",
    "    print(f\"Stock - {ticker}:\\n{news}\")"
   ]
  },
  {
   "cell_type": "code",
   "execution_count": null,
   "metadata": {},
   "outputs": [],
   "source": []
  }
 ],
 "metadata": {
  "kernelspec": {
   "display_name": ".venv",
   "language": "python",
   "name": "python3"
  },
  "language_info": {
   "codemirror_mode": {
    "name": "ipython",
    "version": 3
   },
   "file_extension": ".py",
   "mimetype": "text/x-python",
   "name": "python",
   "nbconvert_exporter": "python",
   "pygments_lexer": "ipython3",
   "version": "3.10.5"
  }
 },
 "nbformat": 4,
 "nbformat_minor": 2
}
